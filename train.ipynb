{
 "cells": [
  {
   "cell_type": "code",
   "execution_count": 8,
   "metadata": {},
   "outputs": [],
   "source": [
    "import matplotlib\n",
    "from matplotlib import pyplot as plt\n",
    "matplotlib.rcParams['font.size'] = 18\n",
    "matplotlib.rcParams['figure.titlesize'] = 18\n",
    "matplotlib.rcParams['figure.figsize'] = [9, 7]\n",
    "matplotlib.rcParams['font.family'] = ['KaiTi']\n",
    "matplotlib.rcParams['axes.unicode_minus']=False\n",
    "\n",
    "import  os\n",
    "import  tensorflow as tf\n",
    "import  numpy as np\n",
    "from tensorflow.keras import layers, optimizers, Sequential, metrics\n",
    "\n",
    "tf.random.set_seed(1234)\n",
    "np.random.seed(1234)\n",
    "os.environ['TF_CPP_MIN_LOG_LEVEL'] = '2'\n",
    "assert tf.__version__.startswith('2.')\n",
    "\n",
    "from load_dataset import load_data"
   ]
  },
  {
   "cell_type": "code",
   "execution_count": 19,
   "metadata": {},
   "outputs": [],
   "source": [
    "def preprocess(x,y):\n",
    "    # x: 图片的路径，y：图片的数字编码\n",
    "    x = tf.io.read_file(x)\n",
    "    x = tf.image.decode_jpeg(x, channels=1) # RGBA\n",
    "    x = tf.image.resize(x, [28, 28])\n",
    "\n",
    "#     x = tf.image.random_flip_left_right(x)\n",
    "#     x = tf.image.random_flip_up_down(x)\n",
    "#     x = tf.image.random_crop(x, [224,224,3])\n",
    "\n",
    "    # x: [0,255]=> -1~1\n",
    "    x = tf.cast(x, dtype=tf.float32) / 255.\n",
    "    y = tf.convert_to_tensor(y)\n",
    "    y = tf.one_hot(y, depth=10)\n",
    "\n",
    "    return x, y"
   ]
  },
  {
   "cell_type": "code",
   "execution_count": 40,
   "metadata": {},
   "outputs": [],
   "source": [
    "batchsz = 1024\n",
    "# 创建训练集Datset对象\n",
    "images, labels, table = load_data('4_Png',mode='train')\n",
    "db_train = tf.data.Dataset.from_tensor_slices((images, labels))\n",
    "db_train = db_train.map(preprocess).batch(batchsz).repeat(10)\n",
    "# 创建验证集Datset对象\n",
    "images2, labels2, table = load_data('4_Png',mode='val')\n",
    "db_val = tf.data.Dataset.from_tensor_slices((images2, labels2))\n",
    "db_val = db_val.map(preprocess).batch(batchsz).repeat(10)\n",
    "# 创建测试集Datset对象\n",
    "images3, labels3, table = load_data('4_Png',mode='test')\n",
    "db_test = tf.data.Dataset.from_tensor_slices((images3, labels3))\n",
    "db_test = db_test.map(preprocess).batch(batchsz).repeat(10)"
   ]
  },
  {
   "cell_type": "code",
   "execution_count": 41,
   "metadata": {},
   "outputs": [
    {
     "data": {
      "text/plain": [
       "<RepeatDataset shapes: ((None, 28, 28, 1), (None, 10)), types: (tf.float32, tf.float32)>"
      ]
     },
     "execution_count": 41,
     "metadata": {},
     "output_type": "execute_result"
    }
   ],
   "source": [
    "db_test"
   ]
  },
  {
   "cell_type": "code",
   "execution_count": 44,
   "metadata": {},
   "outputs": [
    {
     "name": "stdout",
     "output_type": "stream",
     "text": [
      "Model: \"sequential_6\"\n",
      "_________________________________________________________________\n",
      "Layer (type)                 Output Shape              Param #   \n",
      "=================================================================\n",
      "conv2d_12 (Conv2D)           multiple                  832       \n",
      "_________________________________________________________________\n",
      "max_pooling2d_12 (MaxPooling multiple                  0         \n",
      "_________________________________________________________________\n",
      "conv2d_13 (Conv2D)           multiple                  51264     \n",
      "_________________________________________________________________\n",
      "max_pooling2d_13 (MaxPooling multiple                  0         \n",
      "_________________________________________________________________\n",
      "flatten_6 (Flatten)          multiple                  0         \n",
      "_________________________________________________________________\n",
      "dense_12 (Dense)             multiple                  3212288   \n",
      "_________________________________________________________________\n",
      "dense_13 (Dense)             multiple                  10250     \n",
      "=================================================================\n",
      "Total params: 3,274,634\n",
      "Trainable params: 3,274,634\n",
      "Non-trainable params: 0\n",
      "_________________________________________________________________\n"
     ]
    }
   ],
   "source": [
    "from tensorflow import keras\n",
    "\n",
    "cnn_layers = [\n",
    "    layers.Conv2D(32, kernel_size=[5, 5], padding=\"same\", activation=tf.nn.relu),\n",
    "    layers.MaxPool2D(pool_size=[2, 2], strides=2, padding='same'),\n",
    "    layers.Conv2D(64, kernel_size=[5, 5], padding=\"same\", activation=tf.nn.relu),\n",
    "    layers.MaxPool2D(pool_size=[2, 2], strides=2, padding='same'),\n",
    "    layers.Flatten(),\n",
    "    layers.Dense(1024, activation=tf.nn.relu),\n",
    "    layers.Dense(10, activation=tf.nn.softmax)\n",
    "]\n",
    "\n",
    "model = Sequential(cnn_layers)\n",
    "model.compile(optimizer=keras.optimizers.Adam(), loss=keras.losses.CategoricalCrossentropy(), \n",
    "             metrics=[keras.metrics.CategoricalAccuracy()])\n",
    "model.build(input_shape=(None, 28, 28, 1))\n",
    "model.summary()"
   ]
  },
  {
   "cell_type": "code",
   "execution_count": 46,
   "metadata": {},
   "outputs": [
    {
     "name": "stdout",
     "output_type": "stream",
     "text": [
      "Train for 90 steps, validate for 50 steps\n",
      "Epoch 1/10\n",
      "90/90 [==============================] - 21s 234ms/step - loss: 0.2644 - categorical_accuracy: 0.8975 - val_loss: 0.1327 - val_categorical_accuracy: 0.9372\n",
      "Epoch 2/10\n",
      "90/90 [==============================] - 20s 226ms/step - loss: 0.1151 - categorical_accuracy: 0.9458 - val_loss: 0.1283 - val_categorical_accuracy: 0.9363\n",
      "Epoch 3/10\n",
      "90/90 [==============================] - 20s 225ms/step - loss: 0.0907 - categorical_accuracy: 0.9568 - val_loss: 0.0825 - val_categorical_accuracy: 0.9624\n",
      "Epoch 4/10\n",
      "90/90 [==============================] - 20s 226ms/step - loss: 0.0755 - categorical_accuracy: 0.9649 - val_loss: 0.0697 - val_categorical_accuracy: 0.9676\n",
      "Epoch 5/10\n",
      "90/90 [==============================] - 20s 227ms/step - loss: 0.0660 - categorical_accuracy: 0.9702 - val_loss: 0.0605 - val_categorical_accuracy: 0.9730\n",
      "Epoch 6/10\n",
      "90/90 [==============================] - 20s 225ms/step - loss: 0.0589 - categorical_accuracy: 0.9732 - val_loss: 0.0578 - val_categorical_accuracy: 0.9733\n",
      "Epoch 7/10\n",
      "90/90 [==============================] - 20s 226ms/step - loss: 0.0511 - categorical_accuracy: 0.9770 - val_loss: 0.0497 - val_categorical_accuracy: 0.9784\n",
      "Epoch 8/10\n",
      "90/90 [==============================] - 20s 225ms/step - loss: 0.0409 - categorical_accuracy: 0.9825 - val_loss: 0.0432 - val_categorical_accuracy: 0.9821\n",
      "Epoch 9/10\n",
      "90/90 [==============================] - 20s 227ms/step - loss: 0.0328 - categorical_accuracy: 0.9871 - val_loss: 0.0356 - val_categorical_accuracy: 0.9858\n",
      "Epoch 10/10\n",
      "90/90 [==============================] - 20s 226ms/step - loss: 0.0262 - categorical_accuracy: 0.9901 - val_loss: 0.0328 - val_categorical_accuracy: 0.9864\n"
     ]
    }
   ],
   "source": [
    "history = model.fit(db_train, epochs=10, steps_per_epoch=90, validation_data=db_val, validation_steps=50)"
   ]
  },
  {
   "cell_type": "code",
   "execution_count": 51,
   "metadata": {},
   "outputs": [
    {
     "data": {
      "image/png": "[encoded data removed]",
      "text/plain": [
       "<Figure size 648x504 with 1 Axes>"
      ]
     },
     "metadata": {
      "needs_background": "light"
     },
     "output_type": "display_data"
    }
   ],
   "source": [
    "plt.plot(history.history['categorical_accuracy'])\n",
    "plt.plot(history.history['val_categorical_accuracy'])\n",
    "plt.legend(['training', 'valivation'], loc='upper left')\n",
    "plt.show()"
   ]
  },
  {
   "cell_type": "code",
   "execution_count": 50,
   "metadata": {},
   "outputs": [
    {
     "name": "stdout",
     "output_type": "stream",
     "text": [
      "360/360 [==============================] - 52s 145ms/step - loss: 0.0316 - categorical_accuracy: 0.9872\n"
     ]
    }
   ],
   "source": [
    "res = model.evaluate(db_test)"
   ]
  },
  {
   "cell_type": "code",
   "execution_count": 54,
   "metadata": {},
   "outputs": [
    {
     "data": {
      "text/plain": [
       "['loss', 'categorical_accuracy']"
      ]
     },
     "execution_count": 54,
     "metadata": {},
     "output_type": "execute_result"
    }
   ],
   "source": [
    "model.metrics_names"
   ]
  }
 ],
 "metadata": {
  "kernelspec": {
   "display_name": "Python 3",
   "language": "python",
   "name": "python3"
  },
  "language_info": {
   "codemirror_mode": {
    "name": "ipython",
    "version": 3
   },
   "file_extension": ".py",
   "mimetype": "text/x-python",
   "name": "python",
   "nbconvert_exporter": "python",
   "pygments_lexer": "ipython3",
   "version": "3.7.4"
  }
 },
 "nbformat": 4,
 "nbformat_minor": 4
}
