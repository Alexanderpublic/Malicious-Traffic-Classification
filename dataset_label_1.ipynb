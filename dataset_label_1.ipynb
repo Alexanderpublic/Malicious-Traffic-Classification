{
 "cells": [
  {
   "cell_type": "markdown",
   "metadata": {},
   "source": [
    "### 生成数据集的描述文件\n",
    "要提取的信息是时间戳信息以及标签信息  \n",
    "https://www.kaspersky.com/resource-center/threats/trojans 可以查看家族信息  \n",
    "https://www.kaspersky.com/resource-center/threats/types-of-malware 查看恶意软件类别"
   ]
  },
  {
   "cell_type": "code",
   "execution_count": 1,
   "metadata": {},
   "outputs": [
    {
     "name": "stdout",
     "output_type": "stream",
     "text": [
      "start handle 2018-06-19\n",
      "JSONDecodeError\n",
      "JSONDecodeError\n",
      "{'Trojan': 67545, 'Virus': 20465, 'Worm': 6329, 'Backdoor': 1369}\n",
      "start handle 2017-10-20\n",
      "{'Trojan': 12238, 'Virus': 1650, 'Worm': 764, 'Backdoor': 617}\n",
      "start handle 2018-03-14\n",
      "{'Trojan': 48769, 'Virus': 17384, 'Worm': 4668, 'Backdoor': 1147}\n",
      "start handle 2017-11-20\n",
      "{'Trojan': 6520, 'Virus': 3, 'Worm': 4, 'Backdoor': 1}\n",
      "start handle 2018-07-17\n",
      "{'Trojan': 523, 'Virus': 200, 'Worm': 11, 'Backdoor': 5}\n",
      "start handle 2019-05-10\n",
      "{'Trojan': 18877, 'Virus': 6586, 'Worm': 3669, 'Backdoor': 879}\n"
     ]
    }
   ],
   "source": [
    "import json\n",
    "import csv\n",
    "import os\n",
    "\n",
    "\n",
    "# 统计json文件中六种类 别出现的次数信息\n",
    "def label_count(scan_res, label_all):\n",
    "    \n",
    "    label_res = {i: 0 for i in label_all}\n",
    "    for item in scan_res:\n",
    "        label = scan_res[item]['result']\n",
    "        if label:\n",
    "            for i in label_all[: -1]:\n",
    "                if i in label:\n",
    "                    label_res[i] += 1       \n",
    "    label_res['Label'] = max(label_res, key=label_res.get)\n",
    "    return label_res\n",
    "            \n",
    "    \n",
    "# 生成对应的json文件\n",
    "def generate_json(dir_name, columns, label_all):\n",
    "    \n",
    "    count_label = [0, 0, 0, 0]\n",
    "    with open(dir_name+'.csv', 'w', encoding='utf-8') as csvfile:\n",
    "        writer = csv.writer(csvfile)\n",
    "        writer.writerow(columns)\n",
    "        dir_path = 'data/' + dir_name\n",
    "        for file_name in os.listdir(dir_path):\n",
    "            if file_name.endswith('.json'):\n",
    "                file_path = os.path.join(dir_path, file_name)\n",
    "                \n",
    "                try:\n",
    "                    with open(file_path, 'r') as file:\n",
    "                        info = json.load(file)\n",
    "                        scan_res = info['scans']\n",
    "                        label_res = label_count(scan_res, label_all)\n",
    "                        label_res = [v for k, v in label_res.items()]\n",
    "                        label_res_1 = label_res[: -1]        # 去除掉label列的列表\n",
    "                        max_index = label_res_1.index(max(label_res_1))\n",
    "                        if label_res_1[max_index] < 10:\n",
    "                            continue\n",
    "                        \n",
    "                        count_label[max_index] += 1\n",
    "                        file_name = file_name.split('.')[0]\n",
    "                        first_seen = info['first_seen']\n",
    "                        scan_date = info['scan_date']\n",
    "                        res = [file_name, scan_date, first_seen] + label_res\n",
    "                        writer.writerow(res)\n",
    "                except:\n",
    "                    print('JSONDecodeError')\n",
    "                    \n",
    "    res = dict(zip(label_all, count_label))\n",
    "    print(res)\n",
    "    \n",
    "\n",
    "# 提取json文件里的家族信息以及时间戳信息\n",
    "\n",
    "label_all = ['Trojan', 'Virus', 'Worm', 'Backdoor', 'Label']\n",
    "path = '/data1/cjx/malware/data'\n",
    "dir_names = [name for name in os.listdir(path)]\n",
    "columns = ['name', 'scan_date', 'first_seen'] + label_all\n",
    "for dir_name in dir_names:\n",
    "    print('start handle ' + dir_name)\n",
    "    generate_json(dir_name, columns, label_all)"
   ]
  },
  {
   "cell_type": "code",
   "execution_count": 2,
   "metadata": {},
   "outputs": [
    {
     "data": {
      "text/plain": [
       "[3, 4, 1]"
      ]
     },
     "execution_count": 2,
     "metadata": {},
     "output_type": "execute_result"
    }
   ],
   "source": [
    "label_all = {'Ransom': 3, 'Virus': 4, 'Worm': 1, 'backdoor': 2, 'label': 0}\n",
    "label_all['label'] = max(label_all, key=label_all.get)\n",
    "label_res_1 = [v for k, v in label_all.items()][: -1]\n",
    "label_res_1[:-1]"
   ]
  },
  {
   "cell_type": "code",
   "execution_count": 44,
   "metadata": {},
   "outputs": [
    {
     "data": {
      "text/plain": [
       "Counter({'Trojan-Ransom': 2853,\n",
       "         'HEUR:Trojan': 1744,\n",
       "         'Trojan': 999,\n",
       "         'Packed': 634,\n",
       "         'Trojan-Proxy': 13,\n",
       "         'Trojan-Banker': 221,\n",
       "         'HEUR:Trojan-Downloader': 3,\n",
       "         'Trojan-Spy': 22,\n",
       "         'Backdoor': 53,\n",
       "         'UDS:DangerousObject': 153,\n",
       "         nan: 127,\n",
       "         'Net-Worm': 4,\n",
       "         'Trojan-Dropper': 15,\n",
       "         'not-a-virus:AdWare': 5,\n",
       "         'Trojan-Downloader': 8,\n",
       "         'Virus': 3,\n",
       "         'Trojan-PSW': 11,\n",
       "         'Worm': 1,\n",
       "         'HEUR:Trojan-Ransom': 2,\n",
       "         'HEUR:Packed': 3,\n",
       "         'P2P-Worm': 1,\n",
       "         'not-a-virus:HEUR:AdWare': 1,\n",
       "         'not-a-virus:HEUR:Downloader': 1})"
      ]
     },
     "execution_count": 44,
     "metadata": {},
     "output_type": "execute_result"
    }
   ],
   "source": [
    "import pandas as pd\n",
    "from collections import Counter\n",
    "\n",
    "data = pd.read_csv('res.csv')\n",
    "Counter(data['label'])"
   ]
  }
 ],
 "metadata": {
  "kernelspec": {
   "display_name": "Python 3",
   "language": "python",
   "name": "python3"
  },
  "language_info": {
   "codemirror_mode": {
    "name": "ipython",
    "version": 3
   },
   "file_extension": ".py",
   "mimetype": "text/x-python",
   "name": "python",
   "nbconvert_exporter": "python",
   "pygments_lexer": "ipython3",
   "version": "3.7.4"
  }
 },
 "nbformat": 4,
 "nbformat_minor": 4
}
